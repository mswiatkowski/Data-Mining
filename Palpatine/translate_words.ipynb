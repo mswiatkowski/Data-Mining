{
 "cells": [
  {
   "cell_type": "code",
   "execution_count": 55,
   "metadata": {},
   "outputs": [],
   "source": [
    "import pandas as pd\n",
    "# !pip install deep-translator\n",
    "from deep_translator import GoogleTranslator\n",
    "import time"
   ]
  },
  {
   "cell_type": "code",
   "execution_count": 84,
   "metadata": {},
   "outputs": [],
   "source": [
    "def translate_words_from_txt(filename):\n",
    "    \"\"\"Function does exactly what has to do\"\"\"\n",
    "    f_trans = {}\n",
    "    df = pd.read_table(filename, header=None)\n",
    "    translator = GoogleTranslator(source='auto', target='pl')\n",
    "    for index, word in df.iloc[261:-16, :].iterrows():\n",
    "        time.sleep(0.5)\n",
    "        df.at[index, 0] = translator.translate(word[0])\n",
    "    return df"
   ]
  },
  {
   "cell_type": "code",
   "execution_count": null,
   "metadata": {},
   "outputs": [],
   "source": [
    "new_data = translate_words_from_txt('vader_lexicon.txt')\n",
    "new_data = new_data.reset_index(drop=True)"
   ]
  },
  {
   "cell_type": "code",
   "execution_count": 86,
   "metadata": {},
   "outputs": [],
   "source": [
    "with open('vader_lexicon_translated.txt', 'w') as tfile:\n",
    "    for index, word in new_data.iterrows():\n",
    "        tfile.write(str(new_data.at[index, 0]) + \"+\" + str(new_data.at[index, 1]) + \n",
    "                    \"+\" + str(new_data.at[index, 2]) + \"+\" + str(new_data.at[index, 3]) + \"\\n\")"
   ]
  }
 ],
 "metadata": {
  "kernelspec": {
   "display_name": "Python 3",
   "language": "python",
   "name": "python3"
  },
  "language_info": {
   "codemirror_mode": {
    "name": "ipython",
    "version": 3
   },
   "file_extension": ".py",
   "mimetype": "text/x-python",
   "name": "python",
   "nbconvert_exporter": "python",
   "pygments_lexer": "ipython3",
   "version": "3.8.2"
  }
 },
 "nbformat": 4,
 "nbformat_minor": 5
}
