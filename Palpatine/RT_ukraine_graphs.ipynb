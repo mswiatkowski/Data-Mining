{
 "cells": [
  {
   "cell_type": "markdown",
   "id": "native-desert",
   "metadata": {},
   "source": [
    "# Graph Analysis of Twitter Data About War In Ukraine"
   ]
  },
  {
   "cell_type": "markdown",
   "id": "amateur-duncan",
   "metadata": {},
   "source": [
    "Our data are retweets from database of tweets with hashtags associated with war in Ukraine.\n",
    "We are going to analyse two graphs: one undirected with no parallel edges (**G**) and one directed with parallel edges allowed (**MDG**). We are going to look at some basic informations like density and diameter and also analyse chains and most frequent triplets."
   ]
  },
  {
   "cell_type": "markdown",
   "id": "auburn-grave",
   "metadata": {},
   "source": [
    "## Importing required libraries"
   ]
  },
  {
   "cell_type": "code",
   "execution_count": null,
   "id": "married-preserve",
   "metadata": {},
   "outputs": [],
   "source": [
    "import pandas as pd\n",
    "import numpy as np\n",
    "import networkx as nx\n",
    "from nltk.tokenize import word_tokenize\n",
    "import matplotlib.pyplot as plt\n",
    "import netsci.models.random as nsr\n",
    "import netsci.metrics.motifs as nsm\n",
    "import netsci.visualization as nsv"
   ]
  },
  {
   "cell_type": "markdown",
   "id": "coated-compilation",
   "metadata": {},
   "source": [
    "## Handy utility functions"
   ]
  },
  {
   "cell_type": "markdown",
   "id": "swiss-syria",
   "metadata": {},
   "source": [
    "* Adding edges to newly created graph:"
   ]
  },
  {
   "cell_type": "code",
   "execution_count": null,
   "id": "governing-partnership",
   "metadata": {},
   "outputs": [],
   "source": [
    "def add_edges_to_graph(graph):\n",
    "    colors_dict = {'-1': 'white',\n",
    "                  '1': 'white',\n",
    "                  '0': 'blue'}\n",
    "    \n",
    "    for i in range(main_df.shape[0]):\n",
    "        try:\n",
    "            if \"RT @\" in main_df[\"text\"][i]:\n",
    "                source = word_tokenize(main_df[\"text\"][i])[2]\n",
    "                graph.add_edge(main_df[\"author\"][i], source, color=colors_dict.get(str(main_df[\"Tension\"][i])))\n",
    "        except TypeError:\n",
    "            continue"
   ]
  },
  {
   "cell_type": "markdown",
   "id": "wanted-moscow",
   "metadata": {},
   "source": [
    "* Calculate pseudo diameter (pseudo because our graph is not connected):"
   ]
  },
  {
   "cell_type": "code",
   "execution_count": null,
   "id": "russian-crystal",
   "metadata": {},
   "outputs": [],
   "source": [
    "def pseudo_diameter(graph):\n",
    "    return max([max(j.values()) for (i,j) in nx.shortest_path_length(graph)])"
   ]
  },
  {
   "cell_type": "markdown",
   "id": "tribal-trauma",
   "metadata": {},
   "source": [
    "* Printing summary of given graph:"
   ]
  },
  {
   "cell_type": "code",
   "execution_count": null,
   "id": "differential-product",
   "metadata": {},
   "outputs": [],
   "source": [
    "def summary(graph):\n",
    "    d = {'Edges': len(graph.edges),\n",
    "    'Nodes': len(graph.nodes),\n",
    "    'Density': nx.density(graph),\n",
    "    'pseudo-Diameter': pseudo_diameter(graph),\n",
    "     '': '',\n",
    "    'Most popular node': count_degrees(graph)[0][0],\n",
    "    'Second most popular node': count_degrees(graph)[1][0],\n",
    "    'Third most popular node': count_degrees(graph)[2][0]}\n",
    "    for k, v in d.items():\n",
    "        print(\"{:<30} {}\".format(k, v))"
   ]
  },
  {
   "cell_type": "markdown",
   "id": "decent-warehouse",
   "metadata": {},
   "source": [
    "* Plotting bar chart of graph degrees:"
   ]
  },
  {
   "cell_type": "code",
   "execution_count": null,
   "id": "qualified-given",
   "metadata": {},
   "outputs": [],
   "source": [
    "def plot_degrees(graph):\n",
    "    degrees = count_degrees(graph)\n",
    "    x = [i[1] for i in degrees[0:10]]\n",
    "    y = [i[0] for i in degrees[0:10]]\n",
    "    \n",
    "    plt.figure(figsize=(16,4))\n",
    "    plt.title(label=\"Degree plot\", fontsize=30)\n",
    "    plt.bar(y, x)"
   ]
  },
  {
   "cell_type": "markdown",
   "id": "vietnamese-brass",
   "metadata": {},
   "source": [
    "* Plotting bar chart of graph centrality:"
   ]
  },
  {
   "cell_type": "code",
   "execution_count": null,
   "id": "blocked-excitement",
   "metadata": {},
   "outputs": [],
   "source": [
    "def plot_centrality(graph):\n",
    "    centrality_dict = nx.degree_centrality(graph)\n",
    "    centrality_list = []\n",
    "    for key in centrality_dict.keys():\n",
    "        temp_list = []\n",
    "        temp_list.append(key)\n",
    "        temp_list.append(centrality_dict[key])\n",
    "        centrality_list.append(temp_list)\n",
    "        \n",
    "    centrality_list = sorted(centrality_list, key=lambda x:x[1])\n",
    "    centrality_list.reverse()\n",
    "    \n",
    "    x = [i[1] for i in centrality_list[0:10]]\n",
    "    y = [i[0] for i in centrality_list[0:10]]\n",
    "    \n",
    "    plt.figure(figsize=(16,4))\n",
    "    plt.title(label=\"Centrality plot\", fontsize=30)\n",
    "    plt.bar(y, x)"
   ]
  },
  {
   "cell_type": "markdown",
   "id": "fresh-journey",
   "metadata": {},
   "source": [
    "* Returning adjacency matrix of given graph:"
   ]
  },
  {
   "cell_type": "code",
   "execution_count": null,
   "id": "deadly-agreement",
   "metadata": {},
   "outputs": [],
   "source": [
    "def get_adj_matrix(graph):\n",
    "    mx = nx.to_numpy_matrix(graph)\n",
    "    mx_arr = np.array(mx).astype('int')\n",
    "    adj_mx_nan = np.divide(mx_arr, mx_arr)\n",
    "    adj_mx = np.nan_to_num(adj_mx_nan).astype('int')\n",
    "    \n",
    "    return adj_mx"
   ]
  },
  {
   "cell_type": "markdown",
   "id": "prerequisite-postage",
   "metadata": {},
   "source": [
    "* Calculating and plotting network motifs (triplets) of given graph:"
   ]
  },
  {
   "cell_type": "code",
   "execution_count": null,
   "id": "binding-sunglasses",
   "metadata": {},
   "outputs": [],
   "source": [
    "def plot_triplets(graph, order=[*range(0,16,1)]):\n",
    "    mx = get_adj_matrix(graph)\n",
    "    print(f)\n",
    "    nsv.bar_motifs(f, order=order)"
   ]
  },
  {
   "cell_type": "markdown",
   "id": "hollywood-nudist",
   "metadata": {},
   "source": [
    "* Calculating degrees for nodes in given graph:"
   ]
  },
  {
   "cell_type": "code",
   "execution_count": null,
   "id": "valid-tampa",
   "metadata": {},
   "outputs": [],
   "source": [
    "def count_degrees(graph):\n",
    "    degrees = []\n",
    "    for elem in nx.degree(graph):\n",
    "        degrees.append(list(elem))\n",
    "\n",
    "    degrees = sorted(degrees, key = lambda x:x[1])\n",
    "    degrees.reverse()\n",
    "    return degrees"
   ]
  },
  {
   "cell_type": "markdown",
   "id": "european-breakdown",
   "metadata": {},
   "source": [
    "* Plotting chains of nodes from given graph (works only for undirected graph and with no parallel edges):"
   ]
  },
  {
   "cell_type": "code",
   "execution_count": null,
   "id": "russian-engineer",
   "metadata": {},
   "outputs": [],
   "source": [
    "def plot_chains(graph):\n",
    "    \n",
    "    chains = []\n",
    "    for i in nx.chain_decomposition(graph):\n",
    "        if len(i) > 3:\n",
    "            chains.append(i)\n",
    "\n",
    "    chains.sort(key=len)\n",
    "    chains.reverse()\n",
    "    \n",
    "    chainG = nx.Graph()\n",
    "    for item in range(len(chains)):\n",
    "        chainG.add_edges_from(chains[item])\n",
    "    \n",
    "    plt.figure(figsize=(8,8))\n",
    "    plt.title(label=\"Normal graph\", fontsize=30)\n",
    "    nx.draw(chainG, with_labels=True)\n",
    "    plt.figure(figsize=(8,8))\n",
    "    plt.title(label=\"Shell graph\", fontsize=30)\n",
    "    nx.draw_shell(chainG, with_labels=True)\n",
    "    plt.show()"
   ]
  },
  {
   "cell_type": "markdown",
   "id": "twenty-forest",
   "metadata": {},
   "source": [
    "## Importing data"
   ]
  },
  {
   "cell_type": "code",
   "execution_count": null,
   "id": "black-spanking",
   "metadata": {},
   "outputs": [],
   "source": [
    "main_df = pd.read_csv('./output1.csv')\n",
    "sentiment_df = pd.read_csv('./tweets_sentiments.csv')\n",
    "sent_df = pd.DataFrame(sentiment_df['Tension'])\n",
    "main_df = pd.concat([main_df, sent_df], axis=1)"
   ]
  },
  {
   "cell_type": "markdown",
   "id": "roman-primary",
   "metadata": {},
   "source": [
    "Quick peek at the data:"
   ]
  },
  {
   "cell_type": "code",
   "execution_count": null,
   "id": "acceptable-script",
   "metadata": {},
   "outputs": [],
   "source": [
    "main_df.head()"
   ]
  },
  {
   "cell_type": "markdown",
   "id": "another-bargain",
   "metadata": {},
   "source": [
    "How many records are included in graph:"
   ]
  },
  {
   "cell_type": "code",
   "execution_count": null,
   "id": "effective-crash",
   "metadata": {},
   "outputs": [],
   "source": [
    "retweets_count = 0\n",
    "for i in range(main_df.shape[0]):\n",
    "    try:\n",
    "        if \"RT @\" in main_df[\"text\"][i]:\n",
    "            retweets_count += 1\n",
    "    except TypeError:\n",
    "        continue"
   ]
  },
  {
   "cell_type": "code",
   "execution_count": null,
   "id": "broken-basics",
   "metadata": {},
   "outputs": [],
   "source": [
    "retweets_count"
   ]
  },
  {
   "cell_type": "markdown",
   "id": "geographic-beaver",
   "metadata": {},
   "source": [
    "## Creating graphs"
   ]
  },
  {
   "cell_type": "code",
   "execution_count": null,
   "id": "fuzzy-tactics",
   "metadata": {},
   "outputs": [],
   "source": [
    "G = nx.Graph()\n",
    "MDG = nx.MultiDiGraph()"
   ]
  },
  {
   "cell_type": "markdown",
   "id": "super-distinction",
   "metadata": {},
   "source": [
    "### Adding edges to graphs"
   ]
  },
  {
   "cell_type": "markdown",
   "id": "fundamental-experiment",
   "metadata": {},
   "source": [
    "To undirected graph with no parallel edges:"
   ]
  },
  {
   "cell_type": "code",
   "execution_count": null,
   "id": "effective-salem",
   "metadata": {},
   "outputs": [],
   "source": [
    "add_edges_to_graph(G)"
   ]
  },
  {
   "cell_type": "markdown",
   "id": "residential-space",
   "metadata": {},
   "source": [
    "To directed graph with parallel edges:"
   ]
  },
  {
   "cell_type": "code",
   "execution_count": null,
   "id": "broadband-floor",
   "metadata": {},
   "outputs": [],
   "source": [
    "add_edges_to_graph(MDG)"
   ]
  },
  {
   "cell_type": "markdown",
   "id": "brave-conditioning",
   "metadata": {},
   "source": [
    "## Plotting graphs"
   ]
  },
  {
   "cell_type": "markdown",
   "id": "adult-testimony",
   "metadata": {},
   "source": [
    "### Undirected graph with no parallel edges:"
   ]
  },
  {
   "cell_type": "code",
   "execution_count": null,
   "id": "greater-virtue",
   "metadata": {},
   "outputs": [],
   "source": [
    "# plt.figure(figsize=(300,300))\n",
    "# nx.draw(G, with_labels=True)\n",
    "# plt.savefig('simple_graph.png')\n",
    "# plt.show()"
   ]
  },
  {
   "cell_type": "code",
   "execution_count": null,
   "id": "offshore-metro",
   "metadata": {},
   "outputs": [],
   "source": [
    "plt.figure(figsize=(50,50))\n",
    "nx.draw(G, with_labels=False)\n",
    "plt.show()"
   ]
  },
  {
   "cell_type": "markdown",
   "id": "incomplete-poetry",
   "metadata": {},
   "source": [
    "As we can see there are several main clusters. Three of them are around users: _propeertys_, _AntyAnty77_ and _SieciechT_. There are also many pairs and triplets on periphery. It could mean that our dataset describes only a small part of bigger discourse on war in Ukraine and refugee crisis on polish east border. Each of these pair and triplet could be connected to other larger structures of information distribution."
   ]
  },
  {
   "cell_type": "markdown",
   "id": "macro-activation",
   "metadata": {},
   "source": [
    "### Directed graph with parallel edges:"
   ]
  },
  {
   "cell_type": "code",
   "execution_count": null,
   "id": "german-discrimination",
   "metadata": {},
   "outputs": [],
   "source": [
    "# plt.figure(figsize=(300,300))\n",
    "# edges, colors = zip(*nx.get_edge_attributes(MDG, 'color').items())\n",
    "# nx.draw(MDG, edge_color=colors, with_labels=True)\n",
    "# plt.savefig('multidi_graph.png')\n",
    "# plt.show()"
   ]
  },
  {
   "cell_type": "code",
   "execution_count": null,
   "id": "ancient-validity",
   "metadata": {},
   "outputs": [],
   "source": [
    "plt.figure(figsize=(50,50))\n",
    "edges, colors = zip(*nx.get_edge_attributes(MDG, 'color').items())\n",
    "nx.draw(MDG, edge_color=colors, with_labels=False)\n",
    "plt.show()"
   ]
  },
  {
   "cell_type": "markdown",
   "id": "encouraging-border",
   "metadata": {},
   "source": [
    "Reversed graph:"
   ]
  },
  {
   "cell_type": "code",
   "execution_count": null,
   "id": "whole-infrared",
   "metadata": {},
   "outputs": [],
   "source": [
    "mdg = MDG.reverse()\n",
    "plt.figure(figsize=(50,50))\n",
    "edges, colors = zip(*nx.get_edge_attributes(mdg, 'color').items())\n",
    "nx.draw(mdg, edge_color=colors, with_labels=False)\n",
    "plt.show()"
   ]
  },
  {
   "cell_type": "markdown",
   "id": "interim-reducing",
   "metadata": {},
   "source": [
    "Only 0s:"
   ]
  },
  {
   "cell_type": "code",
   "execution_count": null,
   "id": "bored-heather",
   "metadata": {},
   "outputs": [],
   "source": [
    "plt.figure(figsize=(50,50))\n",
    "edges, colors = zip(*nx.get_edge_attributes(MDG, 'color').items())\n",
    "nx.draw(MDG, edge_color=colors, with_labels=False)\n",
    "plt.show()"
   ]
  },
  {
   "cell_type": "code",
   "execution_count": null,
   "id": "authorized-pittsburgh",
   "metadata": {},
   "outputs": [],
   "source": [
    "mdg = MDG.reverse()\n",
    "plt.figure(figsize=(50,50))\n",
    "edges, colors = zip(*nx.get_edge_attributes(mdg, 'color').items())\n",
    "nx.draw(mdg, edge_color=colors, with_labels=False)\n",
    "plt.show()"
   ]
  },
  {
   "cell_type": "markdown",
   "id": "injured-criticism",
   "metadata": {},
   "source": [
    "Only -1s and 1s:"
   ]
  },
  {
   "cell_type": "code",
   "execution_count": null,
   "id": "animated-roller",
   "metadata": {},
   "outputs": [],
   "source": [
    "plt.figure(figsize=(50,50))\n",
    "edges, colors = zip(*nx.get_edge_attributes(MDG, 'color').items())\n",
    "nx.draw(MDG, edge_color=colors, with_labels=False)\n",
    "plt.show()"
   ]
  },
  {
   "cell_type": "code",
   "execution_count": null,
   "id": "extraordinary-booth",
   "metadata": {},
   "outputs": [],
   "source": [
    "mdg = MDG.reverse()\n",
    "plt.figure(figsize=(50,50))\n",
    "edges, colors = zip(*nx.get_edge_attributes(mdg, 'color').items())\n",
    "nx.draw(mdg, edge_color=colors, with_labels=False)\n",
    "plt.show()"
   ]
  },
  {
   "cell_type": "markdown",
   "id": "committed-confirmation",
   "metadata": {},
   "source": [
    "Only 1s:"
   ]
  },
  {
   "cell_type": "code",
   "execution_count": null,
   "id": "loaded-webcam",
   "metadata": {},
   "outputs": [],
   "source": [
    "plt.figure(figsize=(50,50))\n",
    "edges, colors = zip(*nx.get_edge_attributes(MDG, 'color').items())\n",
    "nx.draw(MDG, edge_color=colors, with_labels=False)\n",
    "plt.show()"
   ]
  },
  {
   "cell_type": "code",
   "execution_count": null,
   "id": "handed-edinburgh",
   "metadata": {},
   "outputs": [],
   "source": [
    "mdg = MDG.reverse()\n",
    "plt.figure(figsize=(50,50))\n",
    "edges, colors = zip(*nx.get_edge_attributes(mdg, 'color').items())\n",
    "nx.draw(mdg, edge_color=colors, with_labels=False)\n",
    "plt.show()"
   ]
  },
  {
   "cell_type": "markdown",
   "id": "soviet-harassment",
   "metadata": {},
   "source": [
    "Only -1s:"
   ]
  },
  {
   "cell_type": "code",
   "execution_count": null,
   "id": "hazardous-brooklyn",
   "metadata": {},
   "outputs": [],
   "source": [
    "plt.figure(figsize=(50,50))\n",
    "edges, colors = zip(*nx.get_edge_attributes(MDG, 'color').items())\n",
    "nx.draw(MDG, edge_color=colors, with_labels=False)\n",
    "plt.show()"
   ]
  },
  {
   "cell_type": "code",
   "execution_count": null,
   "id": "resident-upset",
   "metadata": {},
   "outputs": [],
   "source": [
    "mdg = MDG.reverse()\n",
    "plt.figure(figsize=(50,50))\n",
    "edges, colors = zip(*nx.get_edge_attributes(mdg, 'color').items())\n",
    "nx.draw(mdg, edge_color=colors, with_labels=False)\n",
    "plt.show()"
   ]
  },
  {
   "cell_type": "markdown",
   "id": "acoustic-qatar",
   "metadata": {},
   "source": [
    "## Descriptions of graphs"
   ]
  },
  {
   "cell_type": "markdown",
   "id": "opened-pontiac",
   "metadata": {},
   "source": [
    "### Undirected:"
   ]
  },
  {
   "cell_type": "code",
   "execution_count": null,
   "id": "coastal-engineering",
   "metadata": {},
   "outputs": [],
   "source": [
    "summary(G)"
   ]
  },
  {
   "cell_type": "code",
   "execution_count": null,
   "id": "stuck-commander",
   "metadata": {},
   "outputs": [],
   "source": [
    "plot_degrees(G)\n",
    "plot_centrality(G)"
   ]
  },
  {
   "cell_type": "code",
   "execution_count": null,
   "id": "descending-texture",
   "metadata": {},
   "outputs": [],
   "source": [
    "plot_triplets(G, order=[1,3,4,5,6,7])"
   ]
  },
  {
   "cell_type": "code",
   "execution_count": null,
   "id": "alien-agreement",
   "metadata": {},
   "outputs": [],
   "source": [
    "plot_chains(G)"
   ]
  },
  {
   "cell_type": "markdown",
   "id": "hourly-number",
   "metadata": {},
   "source": [
    "### Directed:"
   ]
  },
  {
   "cell_type": "code",
   "execution_count": null,
   "id": "wireless-actor",
   "metadata": {},
   "outputs": [],
   "source": [
    "summary(MDG)"
   ]
  },
  {
   "cell_type": "code",
   "execution_count": null,
   "id": "formal-oriental",
   "metadata": {},
   "outputs": [],
   "source": [
    "axs[0] = plot_degrees(MDG)\n",
    "axs[1] = plot_centrality(MDG)"
   ]
  },
  {
   "cell_type": "code",
   "execution_count": null,
   "id": "magnetic-greensboro",
   "metadata": {
    "scrolled": false
   },
   "outputs": [],
   "source": [
    "plot_triplets(MDG, order=[1,3,4,5,6,7])"
   ]
  }
 ],
 "metadata": {
  "kernelspec": {
   "display_name": "Python 3",
   "language": "python",
   "name": "python3"
  },
  "language_info": {
   "codemirror_mode": {
    "name": "ipython",
    "version": 3
   },
   "file_extension": ".py",
   "mimetype": "text/x-python",
   "name": "python",
   "nbconvert_exporter": "python",
   "pygments_lexer": "ipython3",
   "version": "3.9.1"
  }
 },
 "nbformat": 4,
 "nbformat_minor": 5
}
