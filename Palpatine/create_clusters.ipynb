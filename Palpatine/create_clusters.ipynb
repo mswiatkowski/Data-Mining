{
 "cells": [
  {
   "cell_type": "code",
   "execution_count": null,
   "metadata": {},
   "outputs": [],
   "source": [
    "import pandas as pd\n",
    "import dash_leaflet as dl\n",
    "import dash_leaflet.express as dlx\n",
    "from dash import Dash, html"
   ]
  },
  {
   "cell_type": "code",
   "execution_count": null,
   "metadata": {},
   "outputs": [],
   "source": [
    "df = pd.read_csv('output1.csv')\n",
    "df = df.iloc[:, 1:]"
   ]
  },
  {
   "cell_type": "code",
   "execution_count": null,
   "metadata": {},
   "outputs": [],
   "source": [
    "df"
   ]
  },
  {
   "cell_type": "code",
   "execution_count": null,
   "metadata": {},
   "outputs": [],
   "source": [
    "for index, row in df.iterrows():\n",
    "    row['location'] = str(row['location']).split()[0]\n",
    "    row['location'] = str(row['location']).split(',')[0]\n",
    "    df.at[index, 'location'] = row['location']"
   ]
  },
  {
   "cell_type": "code",
   "execution_count": null,
   "metadata": {},
   "outputs": [],
   "source": [
    "df"
   ]
  },
  {
   "cell_type": "code",
   "execution_count": null,
   "metadata": {},
   "outputs": [],
   "source": [
    "df_cities = pd.read_csv('pl.csv', encoding='utf-8')\n",
    "df_cities = df_cities.iloc[:, :3]\n",
    "df_cities.at[0, 'city'] = 'Warszawa'"
   ]
  },
  {
   "cell_type": "code",
   "execution_count": null,
   "metadata": {},
   "outputs": [],
   "source": [
    "df_cities"
   ]
  },
  {
   "cell_type": "code",
   "execution_count": null,
   "metadata": {},
   "outputs": [],
   "source": [
    "def prepare_data(df, df_cities):\n",
    "    location = []\n",
    "    lng = []\n",
    "    lat = []\n",
    "    for index, row in df.iterrows():\n",
    "         if df.at[index, 'location'] in df_cities['city'].values:\n",
    "                location.append(df.at[index, 'location']) \n",
    "                lng.append(df_cities.at[df_cities.index[df_cities['city'] == df.at[index, 'location']].tolist()[0], 'lng'])\n",
    "                lat.append(df_cities.at[df_cities.index[df_cities['city'] == df.at[index, 'location']].tolist()[0], 'lat'])\n",
    "    df1 = pd.DataFrame(data = zip(location, lat, lng), columns=['location', 'lat', 'lng'])\n",
    "    dictionary = df1.to_dict('records')\n",
    "    return dictionary"
   ]
  },
  {
   "cell_type": "code",
   "execution_count": null,
   "metadata": {},
   "outputs": [],
   "source": [
    "def prepare_layout(dictionary):\n",
    "    geojson = dlx.dicts_to_geojson(dictionary, lat=\"lat\", lon=\"lng\")\n",
    "    app.layout = html.Div([\n",
    "        dl.Map([\n",
    "            dl.TileLayer(),\n",
    "            dl.GeoJSON(data=geojson,\n",
    "                       id=\"geojson\", spiderfyOnMaxZoom=True,\n",
    "                       cluster=True, superClusterOptions=dict(radius=120), zoomToBoundsOnClick=True)\n",
    "        ], center=(51.7769, 19.4547), zoom=7, style={'width': '90%', 'height': '100vh', 'margin': \"auto\", \"display\": \"block\"}),\n",
    "    ])"
   ]
  },
  {
   "cell_type": "code",
   "execution_count": null,
   "metadata": {
    "scrolled": true
   },
   "outputs": [],
   "source": [
    "if __name__ == '__main__':\n",
    "    app = Dash()\n",
    "    prepare_layout(prepare_data(df, df_cities))\n",
    "    app.run_server(debug=True, use_reloader=False)"
   ]
  }
 ],
 "metadata": {
  "kernelspec": {
   "display_name": "Python 3",
   "language": "python",
   "name": "python3"
  },
  "language_info": {
   "codemirror_mode": {
    "name": "ipython",
    "version": 3
   },
   "file_extension": ".py",
   "mimetype": "text/x-python",
   "name": "python",
   "nbconvert_exporter": "python",
   "pygments_lexer": "ipython3",
   "version": "3.8.2"
  }
 },
 "nbformat": 4,
 "nbformat_minor": 4
}
