{
 "cells": [
  {
   "cell_type": "code",
   "execution_count": 129,
   "metadata": {},
   "outputs": [],
   "source": [
    "import re\n",
    "import pandas as pd"
   ]
  },
  {
   "cell_type": "code",
   "execution_count": 136,
   "metadata": {},
   "outputs": [
    {
     "data": {
      "text/plain": [
       "(700, 7)"
      ]
     },
     "execution_count": 136,
     "metadata": {},
     "output_type": "execute_result"
    }
   ],
   "source": [
    "df = pd.read_csv('output1.csv')\n",
    "df = df.iloc[:, 1:]\n",
    "df.shape"
   ]
  },
  {
   "cell_type": "code",
   "execution_count": 137,
   "metadata": {},
   "outputs": [
    {
     "data": {
      "text/html": [
       "<div>\n",
       "<style scoped>\n",
       "    .dataframe tbody tr th:only-of-type {\n",
       "        vertical-align: middle;\n",
       "    }\n",
       "\n",
       "    .dataframe tbody tr th {\n",
       "        vertical-align: top;\n",
       "    }\n",
       "\n",
       "    .dataframe thead th {\n",
       "        text-align: right;\n",
       "    }\n",
       "</style>\n",
       "<table border=\"1\" class=\"dataframe\">\n",
       "  <thead>\n",
       "    <tr style=\"text-align: right;\">\n",
       "      <th></th>\n",
       "      <th>id</th>\n",
       "      <th>text</th>\n",
       "      <th>retweet_count</th>\n",
       "      <th>created_at</th>\n",
       "      <th>author</th>\n",
       "      <th>location</th>\n",
       "      <th>is_verified</th>\n",
       "    </tr>\n",
       "  </thead>\n",
       "  <tbody>\n",
       "    <tr>\n",
       "      <th>0</th>\n",
       "      <td>1517289557741477890</td>\n",
       "      <td>Bardzo ciekawe, według mnie, opracowanie #Ukra...</td>\n",
       "      <td>0</td>\n",
       "      <td>2022-04-21 23:49:55+00:00</td>\n",
       "      <td>AntoniPiechocki</td>\n",
       "      <td>NaN</td>\n",
       "      <td>False</td>\n",
       "    </tr>\n",
       "    <tr>\n",
       "      <th>1</th>\n",
       "      <td>1517284025928495104</td>\n",
       "      <td>RT @propeertys: Jednym z powodów, dla których ...</td>\n",
       "      <td>18</td>\n",
       "      <td>2022-04-21 23:27:56+00:00</td>\n",
       "      <td>52_macius</td>\n",
       "      <td>Poznań Stare Miasto / EU</td>\n",
       "      <td>False</td>\n",
       "    </tr>\n",
       "    <tr>\n",
       "      <th>2</th>\n",
       "      <td>1517281903241482241</td>\n",
       "      <td>RT @propeertys: 🇸🇮Słowenia przekaże 🇺🇦Ukrainie...</td>\n",
       "      <td>17</td>\n",
       "      <td>2022-04-21 23:19:30+00:00</td>\n",
       "      <td>KozlowskiMarek</td>\n",
       "      <td>Wrocław</td>\n",
       "      <td>False</td>\n",
       "    </tr>\n",
       "    <tr>\n",
       "      <th>3</th>\n",
       "      <td>1517281417943736321</td>\n",
       "      <td>RT @propeertys: 🇸🇮Słowenia przekaże 🇺🇦Ukrainie...</td>\n",
       "      <td>17</td>\n",
       "      <td>2022-04-21 23:17:34+00:00</td>\n",
       "      <td>lucinda_10</td>\n",
       "      <td>NaN</td>\n",
       "      <td>False</td>\n",
       "    </tr>\n",
       "    <tr>\n",
       "      <th>4</th>\n",
       "      <td>1517280783345635329</td>\n",
       "      <td>.2345z #PeerTube CLIP https://t.co/OnDvp8AxN0 ...</td>\n",
       "      <td>0</td>\n",
       "      <td>2022-04-21 23:15:03+00:00</td>\n",
       "      <td>BastardHegels</td>\n",
       "      <td>NaN</td>\n",
       "      <td>False</td>\n",
       "    </tr>\n",
       "    <tr>\n",
       "      <th>...</th>\n",
       "      <td>...</td>\n",
       "      <td>...</td>\n",
       "      <td>...</td>\n",
       "      <td>...</td>\n",
       "      <td>...</td>\n",
       "      <td>...</td>\n",
       "      <td>...</td>\n",
       "    </tr>\n",
       "    <tr>\n",
       "      <th>695</th>\n",
       "      <td>1515073566403923970</td>\n",
       "      <td>RT @LatkowskiS: Moskiewskie centrum kultury. P...</td>\n",
       "      <td>27</td>\n",
       "      <td>2022-04-15 21:04:21+00:00</td>\n",
       "      <td>Bartek93794875</td>\n",
       "      <td>NaN</td>\n",
       "      <td>False</td>\n",
       "    </tr>\n",
       "    <tr>\n",
       "      <th>696</th>\n",
       "      <td>1515073556316626944</td>\n",
       "      <td>RT @propeertys: Wśród 1000 osób w Toronto potę...</td>\n",
       "      <td>5</td>\n",
       "      <td>2022-04-15 21:04:19+00:00</td>\n",
       "      <td>gemimtv007</td>\n",
       "      <td>Gdańsk, Polska</td>\n",
       "      <td>False</td>\n",
       "    </tr>\n",
       "    <tr>\n",
       "      <th>697</th>\n",
       "      <td>1515073493892845569</td>\n",
       "      <td>RT @propeertys: W #Odessa usunięto dziś zapory...</td>\n",
       "      <td>5</td>\n",
       "      <td>2022-04-15 21:04:04+00:00</td>\n",
       "      <td>jack_sandokan</td>\n",
       "      <td>Polska</td>\n",
       "      <td>False</td>\n",
       "    </tr>\n",
       "    <tr>\n",
       "      <th>698</th>\n",
       "      <td>1515073072780488704</td>\n",
       "      <td>RT @LatkowskiS: Moskiewskie centrum kultury. P...</td>\n",
       "      <td>27</td>\n",
       "      <td>2022-04-15 21:02:23+00:00</td>\n",
       "      <td>Andrzej57408254</td>\n",
       "      <td>Śląskie, Polska</td>\n",
       "      <td>False</td>\n",
       "    </tr>\n",
       "    <tr>\n",
       "      <th>699</th>\n",
       "      <td>1515072978706386953</td>\n",
       "      <td>RT @SieciechT: Mężczyzna po prawej ma czworo d...</td>\n",
       "      <td>786</td>\n",
       "      <td>2022-04-15 21:02:01+00:00</td>\n",
       "      <td>ThorgalAe</td>\n",
       "      <td>NaN</td>\n",
       "      <td>False</td>\n",
       "    </tr>\n",
       "  </tbody>\n",
       "</table>\n",
       "<p>700 rows × 7 columns</p>\n",
       "</div>"
      ],
      "text/plain": [
       "                      id                                               text  \\\n",
       "0    1517289557741477890  Bardzo ciekawe, według mnie, opracowanie #Ukra...   \n",
       "1    1517284025928495104  RT @propeertys: Jednym z powodów, dla których ...   \n",
       "2    1517281903241482241  RT @propeertys: 🇸🇮Słowenia przekaże 🇺🇦Ukrainie...   \n",
       "3    1517281417943736321  RT @propeertys: 🇸🇮Słowenia przekaże 🇺🇦Ukrainie...   \n",
       "4    1517280783345635329  .2345z #PeerTube CLIP https://t.co/OnDvp8AxN0 ...   \n",
       "..                   ...                                                ...   \n",
       "695  1515073566403923970  RT @LatkowskiS: Moskiewskie centrum kultury. P...   \n",
       "696  1515073556316626944  RT @propeertys: Wśród 1000 osób w Toronto potę...   \n",
       "697  1515073493892845569  RT @propeertys: W #Odessa usunięto dziś zapory...   \n",
       "698  1515073072780488704  RT @LatkowskiS: Moskiewskie centrum kultury. P...   \n",
       "699  1515072978706386953  RT @SieciechT: Mężczyzna po prawej ma czworo d...   \n",
       "\n",
       "     retweet_count                 created_at           author  \\\n",
       "0                0  2022-04-21 23:49:55+00:00  AntoniPiechocki   \n",
       "1               18  2022-04-21 23:27:56+00:00        52_macius   \n",
       "2               17  2022-04-21 23:19:30+00:00   KozlowskiMarek   \n",
       "3               17  2022-04-21 23:17:34+00:00       lucinda_10   \n",
       "4                0  2022-04-21 23:15:03+00:00    BastardHegels   \n",
       "..             ...                        ...              ...   \n",
       "695             27  2022-04-15 21:04:21+00:00   Bartek93794875   \n",
       "696              5  2022-04-15 21:04:19+00:00       gemimtv007   \n",
       "697              5  2022-04-15 21:04:04+00:00    jack_sandokan   \n",
       "698             27  2022-04-15 21:02:23+00:00  Andrzej57408254   \n",
       "699            786  2022-04-15 21:02:01+00:00        ThorgalAe   \n",
       "\n",
       "                      location  is_verified  \n",
       "0                          NaN        False  \n",
       "1    Poznań Stare Miasto / EU         False  \n",
       "2                      Wrocław        False  \n",
       "3                          NaN        False  \n",
       "4                          NaN        False  \n",
       "..                         ...          ...  \n",
       "695                        NaN        False  \n",
       "696             Gdańsk, Polska        False  \n",
       "697                     Polska        False  \n",
       "698            Śląskie, Polska        False  \n",
       "699                        NaN        False  \n",
       "\n",
       "[700 rows x 7 columns]"
      ]
     },
     "execution_count": 137,
     "metadata": {},
     "output_type": "execute_result"
    }
   ],
   "source": [
    "df"
   ]
  },
  {
   "cell_type": "code",
   "execution_count": 131,
   "metadata": {},
   "outputs": [
    {
     "data": {
      "text/plain": [
       "(279, 7)"
      ]
     },
     "execution_count": 131,
     "metadata": {},
     "output_type": "execute_result"
    }
   ],
   "source": [
    "df = df.drop_duplicates(subset=['text'], ignore_index=True)\n",
    "df.shape"
   ]
  },
  {
   "cell_type": "code",
   "execution_count": 132,
   "metadata": {},
   "outputs": [],
   "source": [
    "def clean_data():\n",
    "    \"\"\"\n",
    "    Getting rid of irrelevant data for data sentiment analysis.\n",
    "    :return: DataFrame\n",
    "    \"\"\"\n",
    "    pattern = re.compile('@[^\\s]*|'\n",
    "                         'RT|'\n",
    "                         '#\\w*|'\n",
    "                         'http[^\\s]*|'\n",
    "                         '^\\.[^\\s]*|'\n",
    "                         '\\d*|'\n",
    "                         u'([\\U0001F1E6-\\U0001F1FF]{2})|'\n",
    "                         '\\w[^\\s]\\d\\\\d'\n",
    "                        )\n",
    "    for index, row in df.iterrows():\n",
    "        df.at[index,'text'] = pattern.sub('', row['text'])\n",
    "    \n",
    "    return df"
   ]
  },
  {
   "cell_type": "code",
   "execution_count": 133,
   "metadata": {},
   "outputs": [],
   "source": [
    "df = clean_data()"
   ]
  },
  {
   "cell_type": "code",
   "execution_count": 134,
   "metadata": {},
   "outputs": [
    {
     "data": {
      "text/plain": [
       "0           Bardzo ciekawe, według mnie, opracowanie   \n",
       "1       Jednym z powodów, dla których Czechy wysyłaj...\n",
       "2       Słowenia przekaże Ukrainie  jugosłowiańskie ...\n",
       "3                               CLIP                gg \n",
       "4               minut w Parlamencie Europejskim ⁦      \n",
       "5       UE zgodziła się na zakup ciężkiej broni do b...\n",
       "6       Kateryna Mola: Who ordered Katya Gandziuk’s ...\n",
       "7     Słowenia przekaże Ukrainie  jugosłowiańskie cz...\n",
       "8        jest najsłabszy w historii! CAŁOŚĆ:   \\n Ma...\n",
       "9     Jednym z powodów, dla których Czechy wysyłają ...\n",
       "10      Ukraińska obrona powietrzna uderzała w  celó...\n",
       "11    Ukraińska obrona powietrzna uderzała w  celów ...\n",
       "Name: text, dtype: object"
      ]
     },
     "execution_count": 134,
     "metadata": {},
     "output_type": "execute_result"
    }
   ],
   "source": [
    "df['text'].head(12)"
   ]
  },
  {
   "cell_type": "code",
   "execution_count": 135,
   "metadata": {},
   "outputs": [],
   "source": [
    "df.to_csv('cleaned_data.csv')"
   ]
  }
 ],
 "metadata": {
  "kernelspec": {
   "display_name": "Python 3",
   "language": "python",
   "name": "python3"
  },
  "language_info": {
   "codemirror_mode": {
    "name": "ipython",
    "version": 3
   },
   "file_extension": ".py",
   "mimetype": "text/x-python",
   "name": "python",
   "nbconvert_exporter": "python",
   "pygments_lexer": "ipython3",
   "version": "3.8.2"
  }
 },
 "nbformat": 4,
 "nbformat_minor": 4
}
