{
 "cells": [
  {
   "cell_type": "code",
   "execution_count": 1,
   "metadata": {},
   "outputs": [],
   "source": [
    "import re\n",
    "import pandas as pd"
   ]
  },
  {
   "cell_type": "code",
   "execution_count": 22,
   "metadata": {},
   "outputs": [
    {
     "data": {
      "text/plain": [
       "(2803, 7)"
      ]
     },
     "execution_count": 22,
     "metadata": {},
     "output_type": "execute_result"
    }
   ],
   "source": [
    "df = pd.read_csv('output.csv')\n",
    "df = df.iloc[:, 1:]\n",
    "df.shape"
   ]
  },
  {
   "cell_type": "code",
   "execution_count": 11,
   "metadata": {},
   "outputs": [
    {
     "data": {
      "text/html": [
       "<div>\n",
       "<style scoped>\n",
       "    .dataframe tbody tr th:only-of-type {\n",
       "        vertical-align: middle;\n",
       "    }\n",
       "\n",
       "    .dataframe tbody tr th {\n",
       "        vertical-align: top;\n",
       "    }\n",
       "\n",
       "    .dataframe thead th {\n",
       "        text-align: right;\n",
       "    }\n",
       "</style>\n",
       "<table border=\"1\" class=\"dataframe\">\n",
       "  <thead>\n",
       "    <tr style=\"text-align: right;\">\n",
       "      <th></th>\n",
       "      <th>id</th>\n",
       "      <th>text</th>\n",
       "      <th>retweet_count</th>\n",
       "      <th>created_at</th>\n",
       "      <th>author</th>\n",
       "      <th>location</th>\n",
       "      <th>is_verified</th>\n",
       "    </tr>\n",
       "  </thead>\n",
       "  <tbody>\n",
       "    <tr>\n",
       "      <th>0</th>\n",
       "      <td>1517289557741477890</td>\n",
       "      <td>Bardzo ciekawe, według mnie, opracowanie #Ukra...</td>\n",
       "      <td>0</td>\n",
       "      <td>2022-04-21 23:49:55+00:00</td>\n",
       "      <td>AntoniPiechocki</td>\n",
       "      <td>NaN</td>\n",
       "      <td>False</td>\n",
       "    </tr>\n",
       "    <tr>\n",
       "      <th>1</th>\n",
       "      <td>1517284025928495104</td>\n",
       "      <td>RT @propeertys: Jednym z powodów, dla których ...</td>\n",
       "      <td>18</td>\n",
       "      <td>2022-04-21 23:27:56+00:00</td>\n",
       "      <td>52_macius</td>\n",
       "      <td>Poznań Stare Miasto / EU</td>\n",
       "      <td>False</td>\n",
       "    </tr>\n",
       "    <tr>\n",
       "      <th>2</th>\n",
       "      <td>1517281903241482241</td>\n",
       "      <td>RT @propeertys: 🇸🇮Słowenia przekaże 🇺🇦Ukrainie...</td>\n",
       "      <td>17</td>\n",
       "      <td>2022-04-21 23:19:30+00:00</td>\n",
       "      <td>KozlowskiMarek</td>\n",
       "      <td>Wrocław</td>\n",
       "      <td>False</td>\n",
       "    </tr>\n",
       "    <tr>\n",
       "      <th>3</th>\n",
       "      <td>1517281417943736321</td>\n",
       "      <td>RT @propeertys: 🇸🇮Słowenia przekaże 🇺🇦Ukrainie...</td>\n",
       "      <td>17</td>\n",
       "      <td>2022-04-21 23:17:34+00:00</td>\n",
       "      <td>lucinda_10</td>\n",
       "      <td>NaN</td>\n",
       "      <td>False</td>\n",
       "    </tr>\n",
       "    <tr>\n",
       "      <th>4</th>\n",
       "      <td>1517280783345635329</td>\n",
       "      <td>.2345z #PeerTube CLIP https://t.co/OnDvp8AxN0 ...</td>\n",
       "      <td>0</td>\n",
       "      <td>2022-04-21 23:15:03+00:00</td>\n",
       "      <td>BastardHegels</td>\n",
       "      <td>NaN</td>\n",
       "      <td>False</td>\n",
       "    </tr>\n",
       "    <tr>\n",
       "      <th>...</th>\n",
       "      <td>...</td>\n",
       "      <td>...</td>\n",
       "      <td>...</td>\n",
       "      <td>...</td>\n",
       "      <td>...</td>\n",
       "      <td>...</td>\n",
       "      <td>...</td>\n",
       "    </tr>\n",
       "    <tr>\n",
       "      <th>2798</th>\n",
       "      <td>1523396668875452416</td>\n",
       "      <td>RT @propeertys: Ale orków przypiekli 🔥💪 #Ukrai...</td>\n",
       "      <td>17</td>\n",
       "      <td>2022-05-08 20:17:23+00:00</td>\n",
       "      <td>grzegorzkawalek</td>\n",
       "      <td>NaN</td>\n",
       "      <td>False</td>\n",
       "    </tr>\n",
       "    <tr>\n",
       "      <th>2799</th>\n",
       "      <td>1523396523651829761</td>\n",
       "      <td>RT @propeertys: Ale orków przypiekli 🔥💪 #Ukrai...</td>\n",
       "      <td>17</td>\n",
       "      <td>2022-05-08 20:16:49+00:00</td>\n",
       "      <td>sideusz</td>\n",
       "      <td>Tarnobrzeg</td>\n",
       "      <td>False</td>\n",
       "    </tr>\n",
       "    <tr>\n",
       "      <th>2800</th>\n",
       "      <td>1523396273348300800</td>\n",
       "      <td>RT @propeertys: Ulubieniec Putina *błękitny gr...</td>\n",
       "      <td>23</td>\n",
       "      <td>2022-05-08 20:15:49+00:00</td>\n",
       "      <td>RadioOpornik</td>\n",
       "      <td>NaN</td>\n",
       "      <td>False</td>\n",
       "    </tr>\n",
       "    <tr>\n",
       "      <th>2801</th>\n",
       "      <td>1523395989654351872</td>\n",
       "      <td>RT @Horus543: Kraj 404 i „elyty” u władzy…\\nDo...</td>\n",
       "      <td>2</td>\n",
       "      <td>2022-05-08 20:14:41+00:00</td>\n",
       "      <td>RomanusCrassus</td>\n",
       "      <td>Roma</td>\n",
       "      <td>False</td>\n",
       "    </tr>\n",
       "    <tr>\n",
       "      <th>2802</th>\n",
       "      <td>1523395863057297409</td>\n",
       "      <td>RT @propeertys: Ulubieniec Putina *błękitny gr...</td>\n",
       "      <td>23</td>\n",
       "      <td>2022-05-08 20:14:11+00:00</td>\n",
       "      <td>grzegorzkawalek</td>\n",
       "      <td>NaN</td>\n",
       "      <td>False</td>\n",
       "    </tr>\n",
       "  </tbody>\n",
       "</table>\n",
       "<p>2803 rows × 7 columns</p>\n",
       "</div>"
      ],
      "text/plain": [
       "                       id                                               text  \\\n",
       "0     1517289557741477890  Bardzo ciekawe, według mnie, opracowanie #Ukra...   \n",
       "1     1517284025928495104  RT @propeertys: Jednym z powodów, dla których ...   \n",
       "2     1517281903241482241  RT @propeertys: 🇸🇮Słowenia przekaże 🇺🇦Ukrainie...   \n",
       "3     1517281417943736321  RT @propeertys: 🇸🇮Słowenia przekaże 🇺🇦Ukrainie...   \n",
       "4     1517280783345635329  .2345z #PeerTube CLIP https://t.co/OnDvp8AxN0 ...   \n",
       "...                   ...                                                ...   \n",
       "2798  1523396668875452416  RT @propeertys: Ale orków przypiekli 🔥💪 #Ukrai...   \n",
       "2799  1523396523651829761  RT @propeertys: Ale orków przypiekli 🔥💪 #Ukrai...   \n",
       "2800  1523396273348300800  RT @propeertys: Ulubieniec Putina *błękitny gr...   \n",
       "2801  1523395989654351872  RT @Horus543: Kraj 404 i „elyty” u władzy…\\nDo...   \n",
       "2802  1523395863057297409  RT @propeertys: Ulubieniec Putina *błękitny gr...   \n",
       "\n",
       "     retweet_count                 created_at           author  \\\n",
       "0                0  2022-04-21 23:49:55+00:00  AntoniPiechocki   \n",
       "1               18  2022-04-21 23:27:56+00:00        52_macius   \n",
       "2               17  2022-04-21 23:19:30+00:00   KozlowskiMarek   \n",
       "3               17  2022-04-21 23:17:34+00:00       lucinda_10   \n",
       "4                0  2022-04-21 23:15:03+00:00    BastardHegels   \n",
       "...            ...                        ...              ...   \n",
       "2798            17  2022-05-08 20:17:23+00:00  grzegorzkawalek   \n",
       "2799            17  2022-05-08 20:16:49+00:00          sideusz   \n",
       "2800            23  2022-05-08 20:15:49+00:00     RadioOpornik   \n",
       "2801             2  2022-05-08 20:14:41+00:00   RomanusCrassus   \n",
       "2802            23  2022-05-08 20:14:11+00:00  grzegorzkawalek   \n",
       "\n",
       "                       location is_verified  \n",
       "0                           NaN       False  \n",
       "1     Poznań Stare Miasto / EU        False  \n",
       "2                       Wrocław       False  \n",
       "3                           NaN       False  \n",
       "4                           NaN       False  \n",
       "...                         ...         ...  \n",
       "2798                        NaN       False  \n",
       "2799                 Tarnobrzeg       False  \n",
       "2800                        NaN       False  \n",
       "2801                       Roma       False  \n",
       "2802                        NaN       False  \n",
       "\n",
       "[2803 rows x 7 columns]"
      ]
     },
     "execution_count": 11,
     "metadata": {},
     "output_type": "execute_result"
    }
   ],
   "source": [
    "df"
   ]
  },
  {
   "cell_type": "code",
   "execution_count": 23,
   "metadata": {},
   "outputs": [],
   "source": [
    "df = pd.DataFrame(data = df['text'])"
   ]
  },
  {
   "cell_type": "code",
   "execution_count": 24,
   "metadata": {},
   "outputs": [
    {
     "data": {
      "text/html": [
       "<div>\n",
       "<style scoped>\n",
       "    .dataframe tbody tr th:only-of-type {\n",
       "        vertical-align: middle;\n",
       "    }\n",
       "\n",
       "    .dataframe tbody tr th {\n",
       "        vertical-align: top;\n",
       "    }\n",
       "\n",
       "    .dataframe thead th {\n",
       "        text-align: right;\n",
       "    }\n",
       "</style>\n",
       "<table border=\"1\" class=\"dataframe\">\n",
       "  <thead>\n",
       "    <tr style=\"text-align: right;\">\n",
       "      <th></th>\n",
       "      <th>text</th>\n",
       "    </tr>\n",
       "  </thead>\n",
       "  <tbody>\n",
       "    <tr>\n",
       "      <th>0</th>\n",
       "      <td>Bardzo ciekawe, według mnie, opracowanie #Ukra...</td>\n",
       "    </tr>\n",
       "    <tr>\n",
       "      <th>1</th>\n",
       "      <td>RT @propeertys: Jednym z powodów, dla których ...</td>\n",
       "    </tr>\n",
       "    <tr>\n",
       "      <th>2</th>\n",
       "      <td>RT @propeertys: 🇸🇮Słowenia przekaże 🇺🇦Ukrainie...</td>\n",
       "    </tr>\n",
       "    <tr>\n",
       "      <th>3</th>\n",
       "      <td>RT @propeertys: 🇸🇮Słowenia przekaże 🇺🇦Ukrainie...</td>\n",
       "    </tr>\n",
       "    <tr>\n",
       "      <th>4</th>\n",
       "      <td>.2345z #PeerTube CLIP https://t.co/OnDvp8AxN0 ...</td>\n",
       "    </tr>\n",
       "  </tbody>\n",
       "</table>\n",
       "</div>"
      ],
      "text/plain": [
       "                                                text\n",
       "0  Bardzo ciekawe, według mnie, opracowanie #Ukra...\n",
       "1  RT @propeertys: Jednym z powodów, dla których ...\n",
       "2  RT @propeertys: 🇸🇮Słowenia przekaże 🇺🇦Ukrainie...\n",
       "3  RT @propeertys: 🇸🇮Słowenia przekaże 🇺🇦Ukrainie...\n",
       "4  .2345z #PeerTube CLIP https://t.co/OnDvp8AxN0 ..."
      ]
     },
     "execution_count": 24,
     "metadata": {},
     "output_type": "execute_result"
    }
   ],
   "source": [
    "df.head()"
   ]
  },
  {
   "cell_type": "code",
   "execution_count": 5,
   "metadata": {},
   "outputs": [],
   "source": [
    "def regex_pattern():\n",
    "    return re.compile('@[^\\s]*|'\n",
    "                         'RT|'\n",
    "                         '#\\w*|'\n",
    "                         'http[^\\s]*|'\n",
    "                         '^\\.[^\\s]*|'\n",
    "                         '\\d*|'\n",
    "                         '\\w*[^\\s][\\d]|'\n",
    "                         u\"[\\U0001F600-\\U0001F64F]|\"  \n",
    "                         u\"[\\U0001F300-\\U0001F5FF]|\"  \n",
    "                         u\"[\\U0001F680-\\U0001F6FF]|\"  \n",
    "                         u\"[\\U0001F1E0-\\U0001F1FF]|\" \n",
    "                         u\"[\\U00002500-\\U00002BEF]|\" \n",
    "                         u\"[\\U00002702-\\U000027B0]|\"\n",
    "                         u\"[\\U00002702-\\U000027B0]|\"\n",
    "                         u\"[\\U000024C2-\\U0001F251]|\"\n",
    "                         u\"[\\U0001f926-\\U0001f937]|\"\n",
    "                         u\"[\\U00010000-\\U0010ffff]|\"\n",
    "                         u\"[\\u2640-\\u2642]|\" \n",
    "                         u\"[\\u2600-\\u2B55]|\"\n",
    "                         u\"[\\u200d]|\"\n",
    "                         u\"[\\u23cf]|\"\n",
    "                         u\"[\\u23e9]|\"\n",
    "                         u\"[\\u231a]|\"\n",
    "                         u\"[\\ufe0f]|\"  \n",
    "                         u\"[\\u3030]|\"\n",
    "                         'jeden|dwa|trzy|cztery|pięć|sześć|siedem|osiem|dziewięć', re.I\n",
    "                        )"
   ]
  },
  {
   "cell_type": "code",
   "execution_count": 6,
   "metadata": {},
   "outputs": [],
   "source": [
    "def clean_data(df):\n",
    "    \"\"\"\n",
    "    Getting rid of irrelevant data for data sentiment analysis.\n",
    "    :return: DataFrame\n",
    "    \"\"\"\n",
    "    df = df\n",
    "    pattern = regex_pattern()\n",
    "    for index, row in df.iterrows():\n",
    "        df.at[index,'text'] = pattern.sub('', row['text'])\n",
    "    \n",
    "    return df"
   ]
  },
  {
   "cell_type": "code",
   "execution_count": 25,
   "metadata": {},
   "outputs": [],
   "source": [
    "df = clean_data(df)"
   ]
  },
  {
   "cell_type": "code",
   "execution_count": 26,
   "metadata": {},
   "outputs": [
    {
     "data": {
      "text/plain": [
       "0           Bardzo ciekawe, według mnie, opracowanie   \n",
       "1       Jednym z powodów, dla których Czechy wysyłaj...\n",
       "2       Słowenia przekaże Ukrainie  jugosłowiańskie ...\n",
       "3       Słowenia przekaże Ukrainie  jugosłowiańskie ...\n",
       "4                               CLIP                gg \n",
       "5               minut w Parlamencie Europejskim ⁦      \n",
       "6       Słowenia przekaże Ukrainie  jugosłowiańskie ...\n",
       "7       Słowenia przekaże Ukrainie  jugosłowiańskie ...\n",
       "8       UE zgodziła się na zakup ciężkiej broni do b...\n",
       "9               minut w Parlamencie Europejskim ⁦      \n",
       "10      Słowenia przekaże Ukrainie  jugosłowiańskie ...\n",
       "11      Słowenia przekaże Ukrainie  jugosłowiańskie ...\n",
       "Name: text, dtype: object"
      ]
     },
     "execution_count": 26,
     "metadata": {},
     "output_type": "execute_result"
    }
   ],
   "source": [
    "df['text'].head(12)"
   ]
  },
  {
   "cell_type": "code",
   "execution_count": 27,
   "metadata": {},
   "outputs": [],
   "source": [
    "df.to_csv('cleaned_data.csv')"
   ]
  }
 ],
 "metadata": {
  "kernelspec": {
   "display_name": "Python 3",
   "language": "python",
   "name": "python3"
  },
  "language_info": {
   "codemirror_mode": {
    "name": "ipython",
    "version": 3
   },
   "file_extension": ".py",
   "mimetype": "text/x-python",
   "name": "python",
   "nbconvert_exporter": "python",
   "pygments_lexer": "ipython3",
   "version": "3.8.8"
  }
 },
 "nbformat": 4,
 "nbformat_minor": 4
}
